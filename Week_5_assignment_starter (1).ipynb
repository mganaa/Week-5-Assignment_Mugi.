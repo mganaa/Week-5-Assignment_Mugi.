{
 "cells": [
  {
   "cell_type": "markdown",
   "id": "165166dd",
   "metadata": {},
   "source": [
    "# DS Automation Assignment"
   ]
  },
  {
   "cell_type": "markdown",
   "id": "c195af74",
   "metadata": {},
   "source": [
    "Using our prepared churn data from week 2:\n",
    "- use pycaret to find an ML algorithm that performs best on the data\n",
    "    - Choose a metric you think is best to use for finding the best model; by default, it is accuracy but it could be AUC, precision, recall, etc. The week 3 FTE has some information on these different metrics.\n",
    "- save the model to disk\n",
    "- create a Python script/file/module with a function that takes a pandas dataframe as an input and returns the probability of churn for each row in the dataframe\n",
    "    - your Python file/function should print out the predictions for new data (new_churn_data.csv)\n",
    "    - the true values for the new data are [1, 0, 0, 1, 0] if you're interested\n",
    "- test your Python module and function with the new data, new_churn_data.csv\n",
    "- write a short summary of the process and results at the end of this notebook\n",
    "- upload this Jupyter Notebook and Python file to a Github repository, and turn in a link to the repository in the week 5 assignment dropbox\n",
    "\n",
    "*Optional* challenges:\n",
    "- return the probability of churn for each new prediction, and the percentile where that prediction is in the distribution of probability predictions from the training dataset (e.g. a high probability of churn like 0.78 might be at the 90th percentile)\n",
    "- use other autoML packages, such as TPOT, H2O, MLBox, etc, and compare performance and features with pycaret\n",
    "- create a class in your Python module to hold the functions that you created\n",
    "- accept user input to specify a file using a tool such as Python's `input()` function, the `click` package for command-line arguments, or a GUI\n",
    "- Use the unmodified churn data (new_unmodified_churn_data.csv) in your Python script. This will require adding the same preprocessing steps from week 2 since this data is like the original unmodified dataset from week 1."
   ]
  },
  {
   "cell_type": "code",
   "execution_count": 1,
   "id": "476ed965",
   "metadata": {},
   "outputs": [],
   "source": [
    "import pandas as pd"
   ]
  },
  {
   "cell_type": "markdown",
   "id": "1892bef0-4a44-44a1-b495-e9591650df49",
   "metadata": {},
   "source": [
    "I have been using my first churn data to test Auto ML. To read CSV, I've used panda as df."
   ]
  },
  {
   "cell_type": "code",
   "execution_count": 2,
   "id": "6ce869bb-b71a-43d9-9085-27026c7b836b",
   "metadata": {},
   "outputs": [
    {
     "data": {
      "text/html": [
       "<div>\n",
       "<style scoped>\n",
       "    .dataframe tbody tr th:only-of-type {\n",
       "        vertical-align: middle;\n",
       "    }\n",
       "\n",
       "    .dataframe tbody tr th {\n",
       "        vertical-align: top;\n",
       "    }\n",
       "\n",
       "    .dataframe thead th {\n",
       "        text-align: right;\n",
       "    }\n",
       "</style>\n",
       "<table border=\"1\" class=\"dataframe\">\n",
       "  <thead>\n",
       "    <tr style=\"text-align: right;\">\n",
       "      <th></th>\n",
       "      <th>customerID</th>\n",
       "      <th>tenure</th>\n",
       "      <th>PhoneService</th>\n",
       "      <th>Contract</th>\n",
       "      <th>PaymentMethod</th>\n",
       "      <th>MonthlyCharges</th>\n",
       "      <th>TotalCharges</th>\n",
       "      <th>Churn</th>\n",
       "    </tr>\n",
       "  </thead>\n",
       "  <tbody>\n",
       "    <tr>\n",
       "      <th>0</th>\n",
       "      <td>7590-VHVEG</td>\n",
       "      <td>1</td>\n",
       "      <td>No</td>\n",
       "      <td>Month-to-month</td>\n",
       "      <td>Electronic check</td>\n",
       "      <td>29.85</td>\n",
       "      <td>29.85</td>\n",
       "      <td>No</td>\n",
       "    </tr>\n",
       "    <tr>\n",
       "      <th>1</th>\n",
       "      <td>5575-GNVDE</td>\n",
       "      <td>34</td>\n",
       "      <td>Yes</td>\n",
       "      <td>One year</td>\n",
       "      <td>Mailed check</td>\n",
       "      <td>56.95</td>\n",
       "      <td>1889.50</td>\n",
       "      <td>No</td>\n",
       "    </tr>\n",
       "    <tr>\n",
       "      <th>2</th>\n",
       "      <td>3668-QPYBK</td>\n",
       "      <td>2</td>\n",
       "      <td>Yes</td>\n",
       "      <td>Month-to-month</td>\n",
       "      <td>Mailed check</td>\n",
       "      <td>53.85</td>\n",
       "      <td>108.15</td>\n",
       "      <td>Yes</td>\n",
       "    </tr>\n",
       "    <tr>\n",
       "      <th>3</th>\n",
       "      <td>7795-CFOCW</td>\n",
       "      <td>45</td>\n",
       "      <td>No</td>\n",
       "      <td>One year</td>\n",
       "      <td>Bank transfer (automatic)</td>\n",
       "      <td>42.30</td>\n",
       "      <td>1840.75</td>\n",
       "      <td>No</td>\n",
       "    </tr>\n",
       "    <tr>\n",
       "      <th>4</th>\n",
       "      <td>9237-HQITU</td>\n",
       "      <td>2</td>\n",
       "      <td>Yes</td>\n",
       "      <td>Month-to-month</td>\n",
       "      <td>Electronic check</td>\n",
       "      <td>70.70</td>\n",
       "      <td>151.65</td>\n",
       "      <td>Yes</td>\n",
       "    </tr>\n",
       "    <tr>\n",
       "      <th>...</th>\n",
       "      <td>...</td>\n",
       "      <td>...</td>\n",
       "      <td>...</td>\n",
       "      <td>...</td>\n",
       "      <td>...</td>\n",
       "      <td>...</td>\n",
       "      <td>...</td>\n",
       "      <td>...</td>\n",
       "    </tr>\n",
       "    <tr>\n",
       "      <th>7038</th>\n",
       "      <td>6840-RESVB</td>\n",
       "      <td>24</td>\n",
       "      <td>Yes</td>\n",
       "      <td>One year</td>\n",
       "      <td>Mailed check</td>\n",
       "      <td>84.80</td>\n",
       "      <td>1990.50</td>\n",
       "      <td>No</td>\n",
       "    </tr>\n",
       "    <tr>\n",
       "      <th>7039</th>\n",
       "      <td>2234-XADUH</td>\n",
       "      <td>72</td>\n",
       "      <td>Yes</td>\n",
       "      <td>One year</td>\n",
       "      <td>Credit card (automatic)</td>\n",
       "      <td>103.20</td>\n",
       "      <td>7362.90</td>\n",
       "      <td>No</td>\n",
       "    </tr>\n",
       "    <tr>\n",
       "      <th>7040</th>\n",
       "      <td>4801-JZAZL</td>\n",
       "      <td>11</td>\n",
       "      <td>No</td>\n",
       "      <td>Month-to-month</td>\n",
       "      <td>Electronic check</td>\n",
       "      <td>29.60</td>\n",
       "      <td>346.45</td>\n",
       "      <td>No</td>\n",
       "    </tr>\n",
       "    <tr>\n",
       "      <th>7041</th>\n",
       "      <td>8361-LTMKD</td>\n",
       "      <td>4</td>\n",
       "      <td>Yes</td>\n",
       "      <td>Month-to-month</td>\n",
       "      <td>Mailed check</td>\n",
       "      <td>74.40</td>\n",
       "      <td>306.60</td>\n",
       "      <td>Yes</td>\n",
       "    </tr>\n",
       "    <tr>\n",
       "      <th>7042</th>\n",
       "      <td>3186-AJIEK</td>\n",
       "      <td>66</td>\n",
       "      <td>Yes</td>\n",
       "      <td>Two year</td>\n",
       "      <td>Bank transfer (automatic)</td>\n",
       "      <td>105.65</td>\n",
       "      <td>6844.50</td>\n",
       "      <td>No</td>\n",
       "    </tr>\n",
       "  </tbody>\n",
       "</table>\n",
       "<p>7043 rows × 8 columns</p>\n",
       "</div>"
      ],
      "text/plain": [
       "      customerID  tenure PhoneService        Contract  \\\n",
       "0     7590-VHVEG       1           No  Month-to-month   \n",
       "1     5575-GNVDE      34          Yes        One year   \n",
       "2     3668-QPYBK       2          Yes  Month-to-month   \n",
       "3     7795-CFOCW      45           No        One year   \n",
       "4     9237-HQITU       2          Yes  Month-to-month   \n",
       "...          ...     ...          ...             ...   \n",
       "7038  6840-RESVB      24          Yes        One year   \n",
       "7039  2234-XADUH      72          Yes        One year   \n",
       "7040  4801-JZAZL      11           No  Month-to-month   \n",
       "7041  8361-LTMKD       4          Yes  Month-to-month   \n",
       "7042  3186-AJIEK      66          Yes        Two year   \n",
       "\n",
       "                  PaymentMethod  MonthlyCharges  TotalCharges Churn  \n",
       "0              Electronic check           29.85         29.85    No  \n",
       "1                  Mailed check           56.95       1889.50    No  \n",
       "2                  Mailed check           53.85        108.15   Yes  \n",
       "3     Bank transfer (automatic)           42.30       1840.75    No  \n",
       "4              Electronic check           70.70        151.65   Yes  \n",
       "...                         ...             ...           ...   ...  \n",
       "7038               Mailed check           84.80       1990.50    No  \n",
       "7039    Credit card (automatic)          103.20       7362.90    No  \n",
       "7040           Electronic check           29.60        346.45    No  \n",
       "7041               Mailed check           74.40        306.60   Yes  \n",
       "7042  Bank transfer (automatic)          105.65       6844.50    No  \n",
       "\n",
       "[7043 rows x 8 columns]"
      ]
     },
     "execution_count": 2,
     "metadata": {},
     "output_type": "execute_result"
    }
   ],
   "source": [
    "df = pd.read_csv('churn_data.csv')\n",
    "df"
   ]
  },
  {
   "cell_type": "code",
   "execution_count": 77,
   "id": "b4968698-d9f2-4c4b-8053-a62c5ae8f2ab",
   "metadata": {},
   "outputs": [
    {
     "name": "stdout",
     "output_type": "stream",
     "text": [
      "<class 'pandas.core.frame.DataFrame'>\n",
      "RangeIndex: 7043 entries, 0 to 7042\n",
      "Data columns (total 8 columns):\n",
      " #   Column          Non-Null Count  Dtype  \n",
      "---  ------          --------------  -----  \n",
      " 0   customerID      7043 non-null   object \n",
      " 1   tenure          7043 non-null   int64  \n",
      " 2   PhoneService    7043 non-null   object \n",
      " 3   Contract        7043 non-null   object \n",
      " 4   PaymentMethod   7043 non-null   object \n",
      " 5   MonthlyCharges  7043 non-null   float64\n",
      " 6   TotalCharges    7032 non-null   float64\n",
      " 7   Churn           7043 non-null   object \n",
      "dtypes: float64(2), int64(1), object(5)\n",
      "memory usage: 440.3+ KB\n"
     ]
    }
   ],
   "source": [
    "df.info()"
   ]
  },
  {
   "cell_type": "markdown",
   "id": "20b10292-9a9a-4a43-b86f-d61f1f7eb21d",
   "metadata": {},
   "source": [
    "First version of the data have not converted yet, lets see how Auto Ml will handle the conversion, missing values and other data cleaning methods. "
   ]
  },
  {
   "cell_type": "markdown",
   "id": "d4782f0e-a5cf-410e-9b80-9070de8e7c09",
   "metadata": {},
   "source": [
    "#1 Use pycaret to find an ML algorithm that performs best on the data"
   ]
  },
  {
   "cell_type": "code",
   "execution_count": 4,
   "id": "dc6fdbc4-1082-4b7e-8da8-50ebf8fc48da",
   "metadata": {},
   "outputs": [],
   "source": [
    "\n",
    "from pycaret.classification import ClassificationExperiment \n"
   ]
  },
  {
   "cell_type": "markdown",
   "id": "8c3a9be6-2796-4d4c-a45f-bd0c1d1c68ca",
   "metadata": {},
   "source": [
    "I have used pycaret.classification module, which is used for building and evaluating classification models."
   ]
  },
  {
   "cell_type": "markdown",
   "id": "0d94a429-d9fd-4d99-9350-40a86a58ceb8",
   "metadata": {},
   "source": [
    "-To initialize ClassificationExperiment:"
   ]
  },
  {
   "cell_type": "code",
   "execution_count": 5,
   "id": "0c511886-b37b-4931-a704-16630a558345",
   "metadata": {},
   "outputs": [],
   "source": [
    "automl = ClassificationExperiment()"
   ]
  },
  {
   "cell_type": "markdown",
   "id": "e6680fbe-a381-4bca-8ecc-ef674d31a54f",
   "metadata": {},
   "source": [
    "Next I need to set up the experiment with my dataset and specify the target variable as Churn. "
   ]
  },
  {
   "cell_type": "code",
   "execution_count": 6,
   "id": "e5f0819a-d063-4253-9fb4-79a97f86e9e7",
   "metadata": {},
   "outputs": [
    {
     "data": {
      "text/html": [
       "<style type=\"text/css\">\n",
       "#T_d0d10_row12_col1 {\n",
       "  background-color: lightgreen;\n",
       "}\n",
       "</style>\n",
       "<table id=\"T_d0d10\">\n",
       "  <thead>\n",
       "    <tr>\n",
       "      <th class=\"blank level0\" >&nbsp;</th>\n",
       "      <th id=\"T_d0d10_level0_col0\" class=\"col_heading level0 col0\" >Description</th>\n",
       "      <th id=\"T_d0d10_level0_col1\" class=\"col_heading level0 col1\" >Value</th>\n",
       "    </tr>\n",
       "  </thead>\n",
       "  <tbody>\n",
       "    <tr>\n",
       "      <th id=\"T_d0d10_level0_row0\" class=\"row_heading level0 row0\" >0</th>\n",
       "      <td id=\"T_d0d10_row0_col0\" class=\"data row0 col0\" >Session id</td>\n",
       "      <td id=\"T_d0d10_row0_col1\" class=\"data row0 col1\" >8864</td>\n",
       "    </tr>\n",
       "    <tr>\n",
       "      <th id=\"T_d0d10_level0_row1\" class=\"row_heading level0 row1\" >1</th>\n",
       "      <td id=\"T_d0d10_row1_col0\" class=\"data row1 col0\" >Target</td>\n",
       "      <td id=\"T_d0d10_row1_col1\" class=\"data row1 col1\" >Churn</td>\n",
       "    </tr>\n",
       "    <tr>\n",
       "      <th id=\"T_d0d10_level0_row2\" class=\"row_heading level0 row2\" >2</th>\n",
       "      <td id=\"T_d0d10_row2_col0\" class=\"data row2 col0\" >Target type</td>\n",
       "      <td id=\"T_d0d10_row2_col1\" class=\"data row2 col1\" >Binary</td>\n",
       "    </tr>\n",
       "    <tr>\n",
       "      <th id=\"T_d0d10_level0_row3\" class=\"row_heading level0 row3\" >3</th>\n",
       "      <td id=\"T_d0d10_row3_col0\" class=\"data row3 col0\" >Target mapping</td>\n",
       "      <td id=\"T_d0d10_row3_col1\" class=\"data row3 col1\" >No: 0, Yes: 1</td>\n",
       "    </tr>\n",
       "    <tr>\n",
       "      <th id=\"T_d0d10_level0_row4\" class=\"row_heading level0 row4\" >4</th>\n",
       "      <td id=\"T_d0d10_row4_col0\" class=\"data row4 col0\" >Original data shape</td>\n",
       "      <td id=\"T_d0d10_row4_col1\" class=\"data row4 col1\" >(7043, 8)</td>\n",
       "    </tr>\n",
       "    <tr>\n",
       "      <th id=\"T_d0d10_level0_row5\" class=\"row_heading level0 row5\" >5</th>\n",
       "      <td id=\"T_d0d10_row5_col0\" class=\"data row5 col0\" >Transformed data shape</td>\n",
       "      <td id=\"T_d0d10_row5_col1\" class=\"data row5 col1\" >(7043, 13)</td>\n",
       "    </tr>\n",
       "    <tr>\n",
       "      <th id=\"T_d0d10_level0_row6\" class=\"row_heading level0 row6\" >6</th>\n",
       "      <td id=\"T_d0d10_row6_col0\" class=\"data row6 col0\" >Transformed train set shape</td>\n",
       "      <td id=\"T_d0d10_row6_col1\" class=\"data row6 col1\" >(4930, 13)</td>\n",
       "    </tr>\n",
       "    <tr>\n",
       "      <th id=\"T_d0d10_level0_row7\" class=\"row_heading level0 row7\" >7</th>\n",
       "      <td id=\"T_d0d10_row7_col0\" class=\"data row7 col0\" >Transformed test set shape</td>\n",
       "      <td id=\"T_d0d10_row7_col1\" class=\"data row7 col1\" >(2113, 13)</td>\n",
       "    </tr>\n",
       "    <tr>\n",
       "      <th id=\"T_d0d10_level0_row8\" class=\"row_heading level0 row8\" >8</th>\n",
       "      <td id=\"T_d0d10_row8_col0\" class=\"data row8 col0\" >Ordinal features</td>\n",
       "      <td id=\"T_d0d10_row8_col1\" class=\"data row8 col1\" >1</td>\n",
       "    </tr>\n",
       "    <tr>\n",
       "      <th id=\"T_d0d10_level0_row9\" class=\"row_heading level0 row9\" >9</th>\n",
       "      <td id=\"T_d0d10_row9_col0\" class=\"data row9 col0\" >Numeric features</td>\n",
       "      <td id=\"T_d0d10_row9_col1\" class=\"data row9 col1\" >3</td>\n",
       "    </tr>\n",
       "    <tr>\n",
       "      <th id=\"T_d0d10_level0_row10\" class=\"row_heading level0 row10\" >10</th>\n",
       "      <td id=\"T_d0d10_row10_col0\" class=\"data row10 col0\" >Categorical features</td>\n",
       "      <td id=\"T_d0d10_row10_col1\" class=\"data row10 col1\" >4</td>\n",
       "    </tr>\n",
       "    <tr>\n",
       "      <th id=\"T_d0d10_level0_row11\" class=\"row_heading level0 row11\" >11</th>\n",
       "      <td id=\"T_d0d10_row11_col0\" class=\"data row11 col0\" >Rows with missing values</td>\n",
       "      <td id=\"T_d0d10_row11_col1\" class=\"data row11 col1\" >0.2%</td>\n",
       "    </tr>\n",
       "    <tr>\n",
       "      <th id=\"T_d0d10_level0_row12\" class=\"row_heading level0 row12\" >12</th>\n",
       "      <td id=\"T_d0d10_row12_col0\" class=\"data row12 col0\" >Preprocess</td>\n",
       "      <td id=\"T_d0d10_row12_col1\" class=\"data row12 col1\" >True</td>\n",
       "    </tr>\n",
       "    <tr>\n",
       "      <th id=\"T_d0d10_level0_row13\" class=\"row_heading level0 row13\" >13</th>\n",
       "      <td id=\"T_d0d10_row13_col0\" class=\"data row13 col0\" >Imputation type</td>\n",
       "      <td id=\"T_d0d10_row13_col1\" class=\"data row13 col1\" >simple</td>\n",
       "    </tr>\n",
       "    <tr>\n",
       "      <th id=\"T_d0d10_level0_row14\" class=\"row_heading level0 row14\" >14</th>\n",
       "      <td id=\"T_d0d10_row14_col0\" class=\"data row14 col0\" >Numeric imputation</td>\n",
       "      <td id=\"T_d0d10_row14_col1\" class=\"data row14 col1\" >mean</td>\n",
       "    </tr>\n",
       "    <tr>\n",
       "      <th id=\"T_d0d10_level0_row15\" class=\"row_heading level0 row15\" >15</th>\n",
       "      <td id=\"T_d0d10_row15_col0\" class=\"data row15 col0\" >Categorical imputation</td>\n",
       "      <td id=\"T_d0d10_row15_col1\" class=\"data row15 col1\" >mode</td>\n",
       "    </tr>\n",
       "    <tr>\n",
       "      <th id=\"T_d0d10_level0_row16\" class=\"row_heading level0 row16\" >16</th>\n",
       "      <td id=\"T_d0d10_row16_col0\" class=\"data row16 col0\" >Maximum one-hot encoding</td>\n",
       "      <td id=\"T_d0d10_row16_col1\" class=\"data row16 col1\" >25</td>\n",
       "    </tr>\n",
       "    <tr>\n",
       "      <th id=\"T_d0d10_level0_row17\" class=\"row_heading level0 row17\" >17</th>\n",
       "      <td id=\"T_d0d10_row17_col0\" class=\"data row17 col0\" >Encoding method</td>\n",
       "      <td id=\"T_d0d10_row17_col1\" class=\"data row17 col1\" >None</td>\n",
       "    </tr>\n",
       "    <tr>\n",
       "      <th id=\"T_d0d10_level0_row18\" class=\"row_heading level0 row18\" >18</th>\n",
       "      <td id=\"T_d0d10_row18_col0\" class=\"data row18 col0\" >Fold Generator</td>\n",
       "      <td id=\"T_d0d10_row18_col1\" class=\"data row18 col1\" >StratifiedKFold</td>\n",
       "    </tr>\n",
       "    <tr>\n",
       "      <th id=\"T_d0d10_level0_row19\" class=\"row_heading level0 row19\" >19</th>\n",
       "      <td id=\"T_d0d10_row19_col0\" class=\"data row19 col0\" >Fold Number</td>\n",
       "      <td id=\"T_d0d10_row19_col1\" class=\"data row19 col1\" >10</td>\n",
       "    </tr>\n",
       "    <tr>\n",
       "      <th id=\"T_d0d10_level0_row20\" class=\"row_heading level0 row20\" >20</th>\n",
       "      <td id=\"T_d0d10_row20_col0\" class=\"data row20 col0\" >CPU Jobs</td>\n",
       "      <td id=\"T_d0d10_row20_col1\" class=\"data row20 col1\" >-1</td>\n",
       "    </tr>\n",
       "    <tr>\n",
       "      <th id=\"T_d0d10_level0_row21\" class=\"row_heading level0 row21\" >21</th>\n",
       "      <td id=\"T_d0d10_row21_col0\" class=\"data row21 col0\" >Use GPU</td>\n",
       "      <td id=\"T_d0d10_row21_col1\" class=\"data row21 col1\" >False</td>\n",
       "    </tr>\n",
       "    <tr>\n",
       "      <th id=\"T_d0d10_level0_row22\" class=\"row_heading level0 row22\" >22</th>\n",
       "      <td id=\"T_d0d10_row22_col0\" class=\"data row22 col0\" >Log Experiment</td>\n",
       "      <td id=\"T_d0d10_row22_col1\" class=\"data row22 col1\" >False</td>\n",
       "    </tr>\n",
       "    <tr>\n",
       "      <th id=\"T_d0d10_level0_row23\" class=\"row_heading level0 row23\" >23</th>\n",
       "      <td id=\"T_d0d10_row23_col0\" class=\"data row23 col0\" >Experiment Name</td>\n",
       "      <td id=\"T_d0d10_row23_col1\" class=\"data row23 col1\" >clf-default-name</td>\n",
       "    </tr>\n",
       "    <tr>\n",
       "      <th id=\"T_d0d10_level0_row24\" class=\"row_heading level0 row24\" >24</th>\n",
       "      <td id=\"T_d0d10_row24_col0\" class=\"data row24 col0\" >USI</td>\n",
       "      <td id=\"T_d0d10_row24_col1\" class=\"data row24 col1\" >58a6</td>\n",
       "    </tr>\n",
       "  </tbody>\n",
       "</table>\n"
      ],
      "text/plain": [
       "<pandas.io.formats.style.Styler at 0x23624eeae60>"
      ]
     },
     "metadata": {},
     "output_type": "display_data"
    },
    {
     "data": {
      "text/plain": [
       "<pycaret.classification.oop.ClassificationExperiment at 0x23624bed6c0>"
      ]
     },
     "execution_count": 6,
     "metadata": {},
     "output_type": "execute_result"
    }
   ],
   "source": [
    "automl.setup(df, target='Churn')"
   ]
  },
  {
   "cell_type": "markdown",
   "id": "dab2353b-9461-4517-88f2-dd1d59eec3d2",
   "metadata": {},
   "source": [
    "Next step is compare all models and choose the best. "
   ]
  },
  {
   "cell_type": "code",
   "execution_count": 24,
   "id": "733438c2-fad9-472f-8f39-7bcc246a6d00",
   "metadata": {},
   "outputs": [
    {
     "data": {
      "text/html": [],
      "text/plain": [
       "<IPython.core.display.HTML object>"
      ]
     },
     "metadata": {},
     "output_type": "display_data"
    },
    {
     "data": {
      "text/html": [
       "<style type=\"text/css\">\n",
       "#T_cfe69 th {\n",
       "  text-align: left;\n",
       "}\n",
       "#T_cfe69_row0_col0, #T_cfe69_row0_col2, #T_cfe69_row0_col4, #T_cfe69_row0_col6, #T_cfe69_row0_col7, #T_cfe69_row1_col0, #T_cfe69_row1_col1, #T_cfe69_row1_col3, #T_cfe69_row1_col4, #T_cfe69_row1_col5, #T_cfe69_row1_col6, #T_cfe69_row1_col7, #T_cfe69_row2_col0, #T_cfe69_row2_col1, #T_cfe69_row2_col2, #T_cfe69_row2_col3, #T_cfe69_row2_col4, #T_cfe69_row2_col5, #T_cfe69_row2_col6, #T_cfe69_row2_col7, #T_cfe69_row3_col0, #T_cfe69_row3_col1, #T_cfe69_row3_col2, #T_cfe69_row3_col3, #T_cfe69_row3_col4, #T_cfe69_row3_col5, #T_cfe69_row3_col6, #T_cfe69_row3_col7, #T_cfe69_row4_col0, #T_cfe69_row4_col1, #T_cfe69_row4_col2, #T_cfe69_row4_col3, #T_cfe69_row4_col4, #T_cfe69_row4_col5, #T_cfe69_row4_col6, #T_cfe69_row4_col7, #T_cfe69_row5_col0, #T_cfe69_row5_col1, #T_cfe69_row5_col2, #T_cfe69_row5_col3, #T_cfe69_row5_col4, #T_cfe69_row5_col5, #T_cfe69_row5_col6, #T_cfe69_row5_col7, #T_cfe69_row6_col0, #T_cfe69_row6_col1, #T_cfe69_row6_col2, #T_cfe69_row6_col3, #T_cfe69_row6_col4, #T_cfe69_row6_col5, #T_cfe69_row6_col6, #T_cfe69_row6_col7, #T_cfe69_row7_col0, #T_cfe69_row7_col1, #T_cfe69_row7_col2, #T_cfe69_row7_col3, #T_cfe69_row7_col4, #T_cfe69_row7_col5, #T_cfe69_row7_col6, #T_cfe69_row7_col7, #T_cfe69_row8_col0, #T_cfe69_row8_col1, #T_cfe69_row8_col2, #T_cfe69_row8_col3, #T_cfe69_row8_col4, #T_cfe69_row8_col5, #T_cfe69_row8_col6, #T_cfe69_row8_col7, #T_cfe69_row9_col0, #T_cfe69_row9_col1, #T_cfe69_row9_col2, #T_cfe69_row9_col3, #T_cfe69_row9_col4, #T_cfe69_row9_col5, #T_cfe69_row9_col6, #T_cfe69_row9_col7, #T_cfe69_row10_col0, #T_cfe69_row10_col1, #T_cfe69_row10_col2, #T_cfe69_row10_col3, #T_cfe69_row10_col4, #T_cfe69_row10_col5, #T_cfe69_row10_col6, #T_cfe69_row10_col7, #T_cfe69_row11_col0, #T_cfe69_row11_col1, #T_cfe69_row11_col2, #T_cfe69_row11_col3, #T_cfe69_row11_col4, #T_cfe69_row11_col5, #T_cfe69_row11_col6, #T_cfe69_row11_col7, #T_cfe69_row12_col0, #T_cfe69_row12_col1, #T_cfe69_row12_col2, #T_cfe69_row12_col3, #T_cfe69_row12_col4, #T_cfe69_row12_col5, #T_cfe69_row12_col6, #T_cfe69_row12_col7, #T_cfe69_row13_col0, #T_cfe69_row13_col1, #T_cfe69_row13_col2, #T_cfe69_row13_col3, #T_cfe69_row13_col5 {\n",
       "  text-align: left;\n",
       "}\n",
       "#T_cfe69_row0_col1, #T_cfe69_row0_col3, #T_cfe69_row0_col5, #T_cfe69_row1_col2, #T_cfe69_row13_col4, #T_cfe69_row13_col6, #T_cfe69_row13_col7 {\n",
       "  text-align: left;\n",
       "  background-color: yellow;\n",
       "}\n",
       "#T_cfe69_row0_col8, #T_cfe69_row1_col8, #T_cfe69_row2_col8, #T_cfe69_row3_col8, #T_cfe69_row4_col8, #T_cfe69_row5_col8, #T_cfe69_row6_col8, #T_cfe69_row7_col8, #T_cfe69_row8_col8, #T_cfe69_row9_col8, #T_cfe69_row10_col8, #T_cfe69_row12_col8, #T_cfe69_row13_col8 {\n",
       "  text-align: left;\n",
       "  background-color: lightgrey;\n",
       "}\n",
       "#T_cfe69_row11_col8 {\n",
       "  text-align: left;\n",
       "  background-color: yellow;\n",
       "  background-color: lightgrey;\n",
       "}\n",
       "</style>\n",
       "<table id=\"T_cfe69\">\n",
       "  <thead>\n",
       "    <tr>\n",
       "      <th class=\"blank level0\" >&nbsp;</th>\n",
       "      <th id=\"T_cfe69_level0_col0\" class=\"col_heading level0 col0\" >Model</th>\n",
       "      <th id=\"T_cfe69_level0_col1\" class=\"col_heading level0 col1\" >Accuracy</th>\n",
       "      <th id=\"T_cfe69_level0_col2\" class=\"col_heading level0 col2\" >AUC</th>\n",
       "      <th id=\"T_cfe69_level0_col3\" class=\"col_heading level0 col3\" >Recall</th>\n",
       "      <th id=\"T_cfe69_level0_col4\" class=\"col_heading level0 col4\" >Prec.</th>\n",
       "      <th id=\"T_cfe69_level0_col5\" class=\"col_heading level0 col5\" >F1</th>\n",
       "      <th id=\"T_cfe69_level0_col6\" class=\"col_heading level0 col6\" >Kappa</th>\n",
       "      <th id=\"T_cfe69_level0_col7\" class=\"col_heading level0 col7\" >MCC</th>\n",
       "      <th id=\"T_cfe69_level0_col8\" class=\"col_heading level0 col8\" >TT (Sec)</th>\n",
       "    </tr>\n",
       "  </thead>\n",
       "  <tbody>\n",
       "    <tr>\n",
       "      <th id=\"T_cfe69_level0_row0\" class=\"row_heading level0 row0\" >knn</th>\n",
       "      <td id=\"T_cfe69_row0_col0\" class=\"data row0 col0\" >K Neighbors Classifier</td>\n",
       "      <td id=\"T_cfe69_row0_col1\" class=\"data row0 col1\" >0.7712</td>\n",
       "      <td id=\"T_cfe69_row0_col2\" class=\"data row0 col2\" >0.7527</td>\n",
       "      <td id=\"T_cfe69_row0_col3\" class=\"data row0 col3\" >0.7712</td>\n",
       "      <td id=\"T_cfe69_row0_col4\" class=\"data row0 col4\" >0.7581</td>\n",
       "      <td id=\"T_cfe69_row0_col5\" class=\"data row0 col5\" >0.7612</td>\n",
       "      <td id=\"T_cfe69_row0_col6\" class=\"data row0 col6\" >0.3685</td>\n",
       "      <td id=\"T_cfe69_row0_col7\" class=\"data row0 col7\" >0.3740</td>\n",
       "      <td id=\"T_cfe69_row0_col8\" class=\"data row0 col8\" >0.1070</td>\n",
       "    </tr>\n",
       "    <tr>\n",
       "      <th id=\"T_cfe69_level0_row1\" class=\"row_heading level0 row1\" >lr</th>\n",
       "      <td id=\"T_cfe69_row1_col0\" class=\"data row1 col0\" >Logistic Regression</td>\n",
       "      <td id=\"T_cfe69_row1_col1\" class=\"data row1 col1\" >0.7361</td>\n",
       "      <td id=\"T_cfe69_row1_col2\" class=\"data row1 col2\" >0.8315</td>\n",
       "      <td id=\"T_cfe69_row1_col3\" class=\"data row1 col3\" >0.7361</td>\n",
       "      <td id=\"T_cfe69_row1_col4\" class=\"data row1 col4\" >0.5774</td>\n",
       "      <td id=\"T_cfe69_row1_col5\" class=\"data row1 col5\" >0.6275</td>\n",
       "      <td id=\"T_cfe69_row1_col6\" class=\"data row1 col6\" >0.0117</td>\n",
       "      <td id=\"T_cfe69_row1_col7\" class=\"data row1 col7\" >0.0237</td>\n",
       "      <td id=\"T_cfe69_row1_col8\" class=\"data row1 col8\" >1.1850</td>\n",
       "    </tr>\n",
       "    <tr>\n",
       "      <th id=\"T_cfe69_level0_row2\" class=\"row_heading level0 row2\" >dt</th>\n",
       "      <td id=\"T_cfe69_row2_col0\" class=\"data row2 col0\" >Decision Tree Classifier</td>\n",
       "      <td id=\"T_cfe69_row2_col1\" class=\"data row2 col1\" >0.7347</td>\n",
       "      <td id=\"T_cfe69_row2_col2\" class=\"data row2 col2\" >0.5000</td>\n",
       "      <td id=\"T_cfe69_row2_col3\" class=\"data row2 col3\" >0.7347</td>\n",
       "      <td id=\"T_cfe69_row2_col4\" class=\"data row2 col4\" >0.5398</td>\n",
       "      <td id=\"T_cfe69_row2_col5\" class=\"data row2 col5\" >0.6223</td>\n",
       "      <td id=\"T_cfe69_row2_col6\" class=\"data row2 col6\" >0.0000</td>\n",
       "      <td id=\"T_cfe69_row2_col7\" class=\"data row2 col7\" >0.0000</td>\n",
       "      <td id=\"T_cfe69_row2_col8\" class=\"data row2 col8\" >0.0750</td>\n",
       "    </tr>\n",
       "    <tr>\n",
       "      <th id=\"T_cfe69_level0_row3\" class=\"row_heading level0 row3\" >ridge</th>\n",
       "      <td id=\"T_cfe69_row3_col0\" class=\"data row3 col0\" >Ridge Classifier</td>\n",
       "      <td id=\"T_cfe69_row3_col1\" class=\"data row3 col1\" >0.7347</td>\n",
       "      <td id=\"T_cfe69_row3_col2\" class=\"data row3 col2\" >0.0000</td>\n",
       "      <td id=\"T_cfe69_row3_col3\" class=\"data row3 col3\" >0.7347</td>\n",
       "      <td id=\"T_cfe69_row3_col4\" class=\"data row3 col4\" >0.5398</td>\n",
       "      <td id=\"T_cfe69_row3_col5\" class=\"data row3 col5\" >0.6223</td>\n",
       "      <td id=\"T_cfe69_row3_col6\" class=\"data row3 col6\" >0.0000</td>\n",
       "      <td id=\"T_cfe69_row3_col7\" class=\"data row3 col7\" >0.0000</td>\n",
       "      <td id=\"T_cfe69_row3_col8\" class=\"data row3 col8\" >0.0730</td>\n",
       "    </tr>\n",
       "    <tr>\n",
       "      <th id=\"T_cfe69_level0_row4\" class=\"row_heading level0 row4\" >rf</th>\n",
       "      <td id=\"T_cfe69_row4_col0\" class=\"data row4 col0\" >Random Forest Classifier</td>\n",
       "      <td id=\"T_cfe69_row4_col1\" class=\"data row4 col1\" >0.7347</td>\n",
       "      <td id=\"T_cfe69_row4_col2\" class=\"data row4 col2\" >0.6413</td>\n",
       "      <td id=\"T_cfe69_row4_col3\" class=\"data row4 col3\" >0.7347</td>\n",
       "      <td id=\"T_cfe69_row4_col4\" class=\"data row4 col4\" >0.5398</td>\n",
       "      <td id=\"T_cfe69_row4_col5\" class=\"data row4 col5\" >0.6223</td>\n",
       "      <td id=\"T_cfe69_row4_col6\" class=\"data row4 col6\" >0.0000</td>\n",
       "      <td id=\"T_cfe69_row4_col7\" class=\"data row4 col7\" >0.0000</td>\n",
       "      <td id=\"T_cfe69_row4_col8\" class=\"data row4 col8\" >0.2100</td>\n",
       "    </tr>\n",
       "    <tr>\n",
       "      <th id=\"T_cfe69_level0_row5\" class=\"row_heading level0 row5\" >qda</th>\n",
       "      <td id=\"T_cfe69_row5_col0\" class=\"data row5 col0\" >Quadratic Discriminant Analysis</td>\n",
       "      <td id=\"T_cfe69_row5_col1\" class=\"data row5 col1\" >0.7347</td>\n",
       "      <td id=\"T_cfe69_row5_col2\" class=\"data row5 col2\" >0.5000</td>\n",
       "      <td id=\"T_cfe69_row5_col3\" class=\"data row5 col3\" >0.7347</td>\n",
       "      <td id=\"T_cfe69_row5_col4\" class=\"data row5 col4\" >0.5398</td>\n",
       "      <td id=\"T_cfe69_row5_col5\" class=\"data row5 col5\" >0.6223</td>\n",
       "      <td id=\"T_cfe69_row5_col6\" class=\"data row5 col6\" >0.0000</td>\n",
       "      <td id=\"T_cfe69_row5_col7\" class=\"data row5 col7\" >0.0000</td>\n",
       "      <td id=\"T_cfe69_row5_col8\" class=\"data row5 col8\" >0.0740</td>\n",
       "    </tr>\n",
       "    <tr>\n",
       "      <th id=\"T_cfe69_level0_row6\" class=\"row_heading level0 row6\" >ada</th>\n",
       "      <td id=\"T_cfe69_row6_col0\" class=\"data row6 col0\" >Ada Boost Classifier</td>\n",
       "      <td id=\"T_cfe69_row6_col1\" class=\"data row6 col1\" >0.7347</td>\n",
       "      <td id=\"T_cfe69_row6_col2\" class=\"data row6 col2\" >0.5000</td>\n",
       "      <td id=\"T_cfe69_row6_col3\" class=\"data row6 col3\" >0.7347</td>\n",
       "      <td id=\"T_cfe69_row6_col4\" class=\"data row6 col4\" >0.5398</td>\n",
       "      <td id=\"T_cfe69_row6_col5\" class=\"data row6 col5\" >0.6223</td>\n",
       "      <td id=\"T_cfe69_row6_col6\" class=\"data row6 col6\" >0.0000</td>\n",
       "      <td id=\"T_cfe69_row6_col7\" class=\"data row6 col7\" >0.0000</td>\n",
       "      <td id=\"T_cfe69_row6_col8\" class=\"data row6 col8\" >0.0840</td>\n",
       "    </tr>\n",
       "    <tr>\n",
       "      <th id=\"T_cfe69_level0_row7\" class=\"row_heading level0 row7\" >gbc</th>\n",
       "      <td id=\"T_cfe69_row7_col0\" class=\"data row7 col0\" >Gradient Boosting Classifier</td>\n",
       "      <td id=\"T_cfe69_row7_col1\" class=\"data row7 col1\" >0.7347</td>\n",
       "      <td id=\"T_cfe69_row7_col2\" class=\"data row7 col2\" >0.5000</td>\n",
       "      <td id=\"T_cfe69_row7_col3\" class=\"data row7 col3\" >0.7347</td>\n",
       "      <td id=\"T_cfe69_row7_col4\" class=\"data row7 col4\" >0.5398</td>\n",
       "      <td id=\"T_cfe69_row7_col5\" class=\"data row7 col5\" >0.6223</td>\n",
       "      <td id=\"T_cfe69_row7_col6\" class=\"data row7 col6\" >0.0000</td>\n",
       "      <td id=\"T_cfe69_row7_col7\" class=\"data row7 col7\" >0.0000</td>\n",
       "      <td id=\"T_cfe69_row7_col8\" class=\"data row7 col8\" >0.1990</td>\n",
       "    </tr>\n",
       "    <tr>\n",
       "      <th id=\"T_cfe69_level0_row8\" class=\"row_heading level0 row8\" >lda</th>\n",
       "      <td id=\"T_cfe69_row8_col0\" class=\"data row8 col0\" >Linear Discriminant Analysis</td>\n",
       "      <td id=\"T_cfe69_row8_col1\" class=\"data row8 col1\" >0.7347</td>\n",
       "      <td id=\"T_cfe69_row8_col2\" class=\"data row8 col2\" >0.5000</td>\n",
       "      <td id=\"T_cfe69_row8_col3\" class=\"data row8 col3\" >0.7347</td>\n",
       "      <td id=\"T_cfe69_row8_col4\" class=\"data row8 col4\" >0.5398</td>\n",
       "      <td id=\"T_cfe69_row8_col5\" class=\"data row8 col5\" >0.6223</td>\n",
       "      <td id=\"T_cfe69_row8_col6\" class=\"data row8 col6\" >0.0000</td>\n",
       "      <td id=\"T_cfe69_row8_col7\" class=\"data row8 col7\" >0.0000</td>\n",
       "      <td id=\"T_cfe69_row8_col8\" class=\"data row8 col8\" >0.1000</td>\n",
       "    </tr>\n",
       "    <tr>\n",
       "      <th id=\"T_cfe69_level0_row9\" class=\"row_heading level0 row9\" >et</th>\n",
       "      <td id=\"T_cfe69_row9_col0\" class=\"data row9 col0\" >Extra Trees Classifier</td>\n",
       "      <td id=\"T_cfe69_row9_col1\" class=\"data row9 col1\" >0.7347</td>\n",
       "      <td id=\"T_cfe69_row9_col2\" class=\"data row9 col2\" >0.6279</td>\n",
       "      <td id=\"T_cfe69_row9_col3\" class=\"data row9 col3\" >0.7347</td>\n",
       "      <td id=\"T_cfe69_row9_col4\" class=\"data row9 col4\" >0.5398</td>\n",
       "      <td id=\"T_cfe69_row9_col5\" class=\"data row9 col5\" >0.6223</td>\n",
       "      <td id=\"T_cfe69_row9_col6\" class=\"data row9 col6\" >0.0000</td>\n",
       "      <td id=\"T_cfe69_row9_col7\" class=\"data row9 col7\" >0.0000</td>\n",
       "      <td id=\"T_cfe69_row9_col8\" class=\"data row9 col8\" >0.1910</td>\n",
       "    </tr>\n",
       "    <tr>\n",
       "      <th id=\"T_cfe69_level0_row10\" class=\"row_heading level0 row10\" >lightgbm</th>\n",
       "      <td id=\"T_cfe69_row10_col0\" class=\"data row10 col0\" >Light Gradient Boosting Machine</td>\n",
       "      <td id=\"T_cfe69_row10_col1\" class=\"data row10 col1\" >0.7347</td>\n",
       "      <td id=\"T_cfe69_row10_col2\" class=\"data row10 col2\" >0.5184</td>\n",
       "      <td id=\"T_cfe69_row10_col3\" class=\"data row10 col3\" >0.7347</td>\n",
       "      <td id=\"T_cfe69_row10_col4\" class=\"data row10 col4\" >0.5398</td>\n",
       "      <td id=\"T_cfe69_row10_col5\" class=\"data row10 col5\" >0.6223</td>\n",
       "      <td id=\"T_cfe69_row10_col6\" class=\"data row10 col6\" >0.0000</td>\n",
       "      <td id=\"T_cfe69_row10_col7\" class=\"data row10 col7\" >0.0000</td>\n",
       "      <td id=\"T_cfe69_row10_col8\" class=\"data row10 col8\" >0.1200</td>\n",
       "    </tr>\n",
       "    <tr>\n",
       "      <th id=\"T_cfe69_level0_row11\" class=\"row_heading level0 row11\" >dummy</th>\n",
       "      <td id=\"T_cfe69_row11_col0\" class=\"data row11 col0\" >Dummy Classifier</td>\n",
       "      <td id=\"T_cfe69_row11_col1\" class=\"data row11 col1\" >0.7347</td>\n",
       "      <td id=\"T_cfe69_row11_col2\" class=\"data row11 col2\" >0.5000</td>\n",
       "      <td id=\"T_cfe69_row11_col3\" class=\"data row11 col3\" >0.7347</td>\n",
       "      <td id=\"T_cfe69_row11_col4\" class=\"data row11 col4\" >0.5398</td>\n",
       "      <td id=\"T_cfe69_row11_col5\" class=\"data row11 col5\" >0.6223</td>\n",
       "      <td id=\"T_cfe69_row11_col6\" class=\"data row11 col6\" >0.0000</td>\n",
       "      <td id=\"T_cfe69_row11_col7\" class=\"data row11 col7\" >0.0000</td>\n",
       "      <td id=\"T_cfe69_row11_col8\" class=\"data row11 col8\" >0.0720</td>\n",
       "    </tr>\n",
       "    <tr>\n",
       "      <th id=\"T_cfe69_level0_row12\" class=\"row_heading level0 row12\" >svm</th>\n",
       "      <td id=\"T_cfe69_row12_col0\" class=\"data row12 col0\" >SVM - Linear Kernel</td>\n",
       "      <td id=\"T_cfe69_row12_col1\" class=\"data row12 col1\" >0.7217</td>\n",
       "      <td id=\"T_cfe69_row12_col2\" class=\"data row12 col2\" >0.0000</td>\n",
       "      <td id=\"T_cfe69_row12_col3\" class=\"data row12 col3\" >0.7217</td>\n",
       "      <td id=\"T_cfe69_row12_col4\" class=\"data row12 col4\" >0.7537</td>\n",
       "      <td id=\"T_cfe69_row12_col5\" class=\"data row12 col5\" >0.6902</td>\n",
       "      <td id=\"T_cfe69_row12_col6\" class=\"data row12 col6\" >0.2827</td>\n",
       "      <td id=\"T_cfe69_row12_col7\" class=\"data row12 col7\" >0.3111</td>\n",
       "      <td id=\"T_cfe69_row12_col8\" class=\"data row12 col8\" >0.0830</td>\n",
       "    </tr>\n",
       "    <tr>\n",
       "      <th id=\"T_cfe69_level0_row13\" class=\"row_heading level0 row13\" >nb</th>\n",
       "      <td id=\"T_cfe69_row13_col0\" class=\"data row13 col0\" >Naive Bayes</td>\n",
       "      <td id=\"T_cfe69_row13_col1\" class=\"data row13 col1\" >0.7095</td>\n",
       "      <td id=\"T_cfe69_row13_col2\" class=\"data row13 col2\" >0.8118</td>\n",
       "      <td id=\"T_cfe69_row13_col3\" class=\"data row13 col3\" >0.7095</td>\n",
       "      <td id=\"T_cfe69_row13_col4\" class=\"data row13 col4\" >0.7893</td>\n",
       "      <td id=\"T_cfe69_row13_col5\" class=\"data row13 col5\" >0.7261</td>\n",
       "      <td id=\"T_cfe69_row13_col6\" class=\"data row13 col6\" >0.3909</td>\n",
       "      <td id=\"T_cfe69_row13_col7\" class=\"data row13 col7\" >0.4238</td>\n",
       "      <td id=\"T_cfe69_row13_col8\" class=\"data row13 col8\" >0.0750</td>\n",
       "    </tr>\n",
       "  </tbody>\n",
       "</table>\n"
      ],
      "text/plain": [
       "<pandas.io.formats.style.Styler at 0x236262f81f0>"
      ]
     },
     "metadata": {},
     "output_type": "display_data"
    },
    {
     "data": {
      "text/html": [],
      "text/plain": [
       "<IPython.core.display.HTML object>"
      ]
     },
     "metadata": {},
     "output_type": "display_data"
    }
   ],
   "source": [
    "best_model = automl.compare_models(sort='Recall')"
   ]
  },
  {
   "cell_type": "markdown",
   "id": "6b6721b3-0209-411d-9835-74831dd39f94",
   "metadata": {},
   "source": [
    "I wanted to choose Recall instead of default beacuse the Recall is suitable when the cost of false negatives (incorrectly predicting a churner as a non-churner) is high. For instance, if missing a potential churner leads to loss of revenue or customer churn, recall should be prioritized.\n",
    "As a result Accurancy and Recall have same results as 77.12%."
   ]
  },
  {
   "cell_type": "markdown",
   "id": "5d8f9267-8781-4b9a-9243-c37aad2e569e",
   "metadata": {},
   "source": [
    "-To see which one is the best for our churn data."
   ]
  },
  {
   "cell_type": "code",
   "execution_count": 25,
   "id": "1daad0bd-967d-4852-9bfc-a6aa2e10a1ce",
   "metadata": {},
   "outputs": [
    {
     "data": {
      "text/html": [
       "<style>#sk-container-id-2 {color: black;background-color: white;}#sk-container-id-2 pre{padding: 0;}#sk-container-id-2 div.sk-toggleable {background-color: white;}#sk-container-id-2 label.sk-toggleable__label {cursor: pointer;display: block;width: 100%;margin-bottom: 0;padding: 0.3em;box-sizing: border-box;text-align: center;}#sk-container-id-2 label.sk-toggleable__label-arrow:before {content: \"▸\";float: left;margin-right: 0.25em;color: #696969;}#sk-container-id-2 label.sk-toggleable__label-arrow:hover:before {color: black;}#sk-container-id-2 div.sk-estimator:hover label.sk-toggleable__label-arrow:before {color: black;}#sk-container-id-2 div.sk-toggleable__content {max-height: 0;max-width: 0;overflow: hidden;text-align: left;background-color: #f0f8ff;}#sk-container-id-2 div.sk-toggleable__content pre {margin: 0.2em;color: black;border-radius: 0.25em;background-color: #f0f8ff;}#sk-container-id-2 input.sk-toggleable__control:checked~div.sk-toggleable__content {max-height: 200px;max-width: 100%;overflow: auto;}#sk-container-id-2 input.sk-toggleable__control:checked~label.sk-toggleable__label-arrow:before {content: \"▾\";}#sk-container-id-2 div.sk-estimator input.sk-toggleable__control:checked~label.sk-toggleable__label {background-color: #d4ebff;}#sk-container-id-2 div.sk-label input.sk-toggleable__control:checked~label.sk-toggleable__label {background-color: #d4ebff;}#sk-container-id-2 input.sk-hidden--visually {border: 0;clip: rect(1px 1px 1px 1px);clip: rect(1px, 1px, 1px, 1px);height: 1px;margin: -1px;overflow: hidden;padding: 0;position: absolute;width: 1px;}#sk-container-id-2 div.sk-estimator {font-family: monospace;background-color: #f0f8ff;border: 1px dotted black;border-radius: 0.25em;box-sizing: border-box;margin-bottom: 0.5em;}#sk-container-id-2 div.sk-estimator:hover {background-color: #d4ebff;}#sk-container-id-2 div.sk-parallel-item::after {content: \"\";width: 100%;border-bottom: 1px solid gray;flex-grow: 1;}#sk-container-id-2 div.sk-label:hover label.sk-toggleable__label {background-color: #d4ebff;}#sk-container-id-2 div.sk-serial::before {content: \"\";position: absolute;border-left: 1px solid gray;box-sizing: border-box;top: 0;bottom: 0;left: 50%;z-index: 0;}#sk-container-id-2 div.sk-serial {display: flex;flex-direction: column;align-items: center;background-color: white;padding-right: 0.2em;padding-left: 0.2em;position: relative;}#sk-container-id-2 div.sk-item {position: relative;z-index: 1;}#sk-container-id-2 div.sk-parallel {display: flex;align-items: stretch;justify-content: center;background-color: white;position: relative;}#sk-container-id-2 div.sk-item::before, #sk-container-id-2 div.sk-parallel-item::before {content: \"\";position: absolute;border-left: 1px solid gray;box-sizing: border-box;top: 0;bottom: 0;left: 50%;z-index: -1;}#sk-container-id-2 div.sk-parallel-item {display: flex;flex-direction: column;z-index: 1;position: relative;background-color: white;}#sk-container-id-2 div.sk-parallel-item:first-child::after {align-self: flex-end;width: 50%;}#sk-container-id-2 div.sk-parallel-item:last-child::after {align-self: flex-start;width: 50%;}#sk-container-id-2 div.sk-parallel-item:only-child::after {width: 0;}#sk-container-id-2 div.sk-dashed-wrapped {border: 1px dashed gray;margin: 0 0.4em 0.5em 0.4em;box-sizing: border-box;padding-bottom: 0.4em;background-color: white;}#sk-container-id-2 div.sk-label label {font-family: monospace;font-weight: bold;display: inline-block;line-height: 1.2em;}#sk-container-id-2 div.sk-label-container {text-align: center;}#sk-container-id-2 div.sk-container {/* jupyter's `normalize.less` sets `[hidden] { display: none; }` but bootstrap.min.css set `[hidden] { display: none !important; }` so we also need the `!important` here to be able to override the default hidden behavior on the sphinx rendered scikit-learn.org. See: https://github.com/scikit-learn/scikit-learn/issues/21755 */display: inline-block !important;position: relative;}#sk-container-id-2 div.sk-text-repr-fallback {display: none;}</style><div id=\"sk-container-id-2\" class=\"sk-top-container\"><div class=\"sk-text-repr-fallback\"><pre>KNeighborsClassifier(algorithm=&#x27;auto&#x27;, leaf_size=30, metric=&#x27;minkowski&#x27;,\n",
       "                     metric_params=None, n_jobs=-1, n_neighbors=5, p=2,\n",
       "                     weights=&#x27;uniform&#x27;)</pre><b>In a Jupyter environment, please rerun this cell to show the HTML representation or trust the notebook. <br />On GitHub, the HTML representation is unable to render, please try loading this page with nbviewer.org.</b></div><div class=\"sk-container\" hidden><div class=\"sk-item\"><div class=\"sk-estimator sk-toggleable\"><input class=\"sk-toggleable__control sk-hidden--visually\" id=\"sk-estimator-id-2\" type=\"checkbox\" checked><label for=\"sk-estimator-id-2\" class=\"sk-toggleable__label sk-toggleable__label-arrow\">KNeighborsClassifier</label><div class=\"sk-toggleable__content\"><pre>KNeighborsClassifier(algorithm=&#x27;auto&#x27;, leaf_size=30, metric=&#x27;minkowski&#x27;,\n",
       "                     metric_params=None, n_jobs=-1, n_neighbors=5, p=2,\n",
       "                     weights=&#x27;uniform&#x27;)</pre></div></div></div></div></div>"
      ],
      "text/plain": [
       "KNeighborsClassifier(algorithm='auto', leaf_size=30, metric='minkowski',\n",
       "                     metric_params=None, n_jobs=-1, n_neighbors=5, p=2,\n",
       "                     weights='uniform')"
      ]
     },
     "execution_count": 25,
     "metadata": {},
     "output_type": "execute_result"
    }
   ],
   "source": [
    "best_model"
   ]
  },
  {
   "cell_type": "markdown",
   "id": "55f48dce-1d6b-4859-99d6-d88d65957c0d",
   "metadata": {},
   "source": [
    "As a result to compared the models. Our best model is the KNeighborsClassifier."
   ]
  },
  {
   "cell_type": "raw",
   "id": "ea885808-1ff0-4704-aac3-e86bf7d8e496",
   "metadata": {},
   "source": [
    "Next, Lets evaluate the models those could generate multiple plots to visualize different aspects of the model's performance."
   ]
  },
  {
   "cell_type": "code",
   "execution_count": 13,
   "id": "e1a246c5-2b3f-4484-8756-c98ad172e3a2",
   "metadata": {},
   "outputs": [
    {
     "data": {
      "application/vnd.jupyter.widget-view+json": {
       "model_id": "2c2259017dc34781bced57409adcd1bd",
       "version_major": 2,
       "version_minor": 0
      },
      "text/plain": [
       "interactive(children=(ToggleButtons(description='Plot Type:', icons=('',), options=(('Pipeline Plot', 'pipelin…"
      ]
     },
     "metadata": {},
     "output_type": "display_data"
    }
   ],
   "source": [
    "automl.evaluate_model(best_model)"
   ]
  },
  {
   "cell_type": "markdown",
   "id": "ed0249e1-0bba-4ace-a473-34a19e774980",
   "metadata": {},
   "source": [
    "The pipeline plot is the first in the row, it means that it's the initial plot shown. This plot provides a visual representation of the entire preprocessing pipeline applied to the data before modeling. It includes steps such as data preprocessing, feature engineering, and any transformations applied to the dataset."
   ]
  },
  {
   "cell_type": "code",
   "execution_count": 14,
   "id": "6bbfeb0e-1d91-4800-bf55-ac6145b00953",
   "metadata": {},
   "outputs": [
    {
     "data": {
      "text/html": [],
      "text/plain": [
       "<IPython.core.display.HTML object>"
      ]
     },
     "metadata": {},
     "output_type": "display_data"
    },
    {
     "data": {
      "image/png": "[encoded data removed]",
      "text/plain": [
       "<Figure size 800x550 with 1 Axes>"
      ]
     },
     "metadata": {},
     "output_type": "display_data"
    }
   ],
   "source": [
    "automl.plot_model(best_model)"
   ]
  },
  {
   "cell_type": "markdown",
   "id": "2fe251b4-a058-4dbe-81c4-c63954aa4502",
   "metadata": {},
   "source": [
    " If the blue curve (representing the selected model) closely matches the green curves (representing other models), it suggests that all models perform similarly in terms of the trade-off between true positive rate (sensitivity) and false positive rate (1-specificity). In this case, it may be challenging to determine which model is superior based solely on the ROC curve. In my understanding, closer the AUC is to 1, the better the model's ability to distinguish between the positive and negative classes. "
   ]
  },
  {
   "cell_type": "markdown",
   "id": "abcfffff-3cd4-49b2-a95d-d48b97cfa7c4",
   "metadata": {},
   "source": [
    "let's try different plot!"
   ]
  },
  {
   "cell_type": "code",
   "execution_count": 32,
   "id": "49f3df0b-d59b-4618-9260-4aa79381867c",
   "metadata": {},
   "outputs": [
    {
     "data": {
      "text/html": [],
      "text/plain": [
       "<IPython.core.display.HTML object>"
      ]
     },
     "metadata": {},
     "output_type": "display_data"
    },
    {
     "data": {
      "image/png": "[encoded data removed]",
      "text/plain": [
       "<Figure size 800x550 with 1 Axes>"
      ]
     },
     "metadata": {},
     "output_type": "display_data"
    }
   ],
   "source": [
    "automl.plot_model(best_model, plot = 'error')"
   ]
  },
  {
   "cell_type": "markdown",
   "id": "401c218e-d065-4fab-982e-4a5be2c12201",
   "metadata": {},
   "source": [
    "If in the Class Prediction Error Plot, the blue bars (predicted classes) are higher than the green bars (actual classes) for a particular class, it indicates that the model is overpredicting that class. In other words, the model is incorrectly assigning more instances to that class than what actually exists in the dataset. We need to consider this in further!"
   ]
  },
  {
   "cell_type": "markdown",
   "id": "d3c56872-66b1-40a0-bf07-d09be61021b2",
   "metadata": {},
   "source": [
    "#2 Next step is save the model to the disk"
   ]
  },
  {
   "cell_type": "code",
   "execution_count": 41,
   "id": "1b94d7fa-c66e-48b9-85af-41bfe7783b9d",
   "metadata": {},
   "outputs": [
    {
     "name": "stdout",
     "output_type": "stream",
     "text": [
      "Transformation Pipeline and Model Successfully Saved\n"
     ]
    },
    {
     "data": {
      "text/plain": [
       "(Pipeline(memory=Memory(location=None),\n",
       "          steps=[('label_encoding',\n",
       "                  TransformerWrapperWithInverse(exclude=None, include=None,\n",
       "                                                transformer=LabelEncoder())),\n",
       "                 ('numerical_imputer',\n",
       "                  TransformerWrapper(exclude=None,\n",
       "                                     include=['tenure', 'MonthlyCharges',\n",
       "                                              'TotalCharges'],\n",
       "                                     transformer=SimpleImputer(add_indicator=False,\n",
       "                                                               copy=True,\n",
       "                                                               fill_value=None,\n",
       "                                                               keep_empty_features=False,...\n",
       "                                     transformer=TargetEncoder(cols=['customerID'],\n",
       "                                                               drop_invariant=False,\n",
       "                                                               handle_missing='return_nan',\n",
       "                                                               handle_unknown='value',\n",
       "                                                               hierarchy=None,\n",
       "                                                               min_samples_leaf=20,\n",
       "                                                               return_df=True,\n",
       "                                                               smoothing=10,\n",
       "                                                               verbose=0))),\n",
       "                 ('trained_model',\n",
       "                  KNeighborsClassifier(algorithm='auto', leaf_size=30,\n",
       "                                       metric='minkowski', metric_params=None,\n",
       "                                       n_jobs=-1, n_neighbors=5, p=2,\n",
       "                                       weights='uniform'))],\n",
       "          verbose=False),\n",
       " 'pycaret_model.pkl')"
      ]
     },
     "execution_count": 41,
     "metadata": {},
     "output_type": "execute_result"
    }
   ],
   "source": [
    "automl.save_model(best_model, 'pycaret_model')"
   ]
  },
  {
   "cell_type": "markdown",
   "id": "d1f89874-9b3b-447a-bea0-60833d4092a8",
   "metadata": {},
   "source": [
    "#3 Create a Python script/file/module with a function that takes a pandas data frame as an input and returns the probability of churn for each row in the data frame. Test your Python module and function with the new data, new_churn_data.csv"
   ]
  },
  {
   "cell_type": "code",
   "execution_count": 76,
   "id": "3c3b567a-a135-4b04-b0b1-bb4b00fab0f5",
   "metadata": {},
   "outputs": [
    {
     "name": "stdout",
     "output_type": "stream",
     "text": [
      "Transformation Pipeline and Model Successfully Loaded\n"
     ]
    },
    {
     "data": {
      "text/html": [],
      "text/plain": [
       "<IPython.core.display.HTML object>"
      ]
     },
     "metadata": {},
     "output_type": "display_data"
    },
    {
     "name": "stdout",
     "output_type": "stream",
     "text": [
      "Churn Probabilities for New Data:\n",
      "0    0.8\n",
      "1    0.6\n",
      "2    1.0\n",
      "3    0.8\n",
      "4    1.0\n",
      "Name: prediction_score, dtype: float64\n"
     ]
    }
   ],
   "source": [
    "from pycaret.classification import load_model, predict_model\n",
    "\n",
    "model = load_model('pycaret_model')  \n",
    "prediction_data = pd.read_csv('new_churn_data.csv')\n",
    "prediction_data = prediction_data[train_data.columns.drop('Churn')]\n",
    "predictions = predict_model(model, data=prediction_data)\n",
    "print(\"Churn Probabilities for New Data:\")\n",
    "print(predictions['prediction_score'])\n"
   ]
  },
  {
   "cell_type": "markdown",
   "id": "1c84422f-375f-49d0-b21a-e336e369d571",
   "metadata": {},
   "source": [
    "I have used the Python model as followed:\n",
    "1.Load the trained model as pycaret model\n",
    "2.Load the preprocessed prediction data, loaded new churn data\n",
    "3.Ensure that the prediction data has the same columns as the training data (excluding the target variable)\n",
    "4.Make predictions on the new data using the loaded model\n",
    "5.Printed the churn probabilities for the new data!"
   ]
  },
  {
   "cell_type": "markdown",
   "id": "807216a7-6887-427a-a9e3-2c8e77204a45",
   "metadata": {},
   "source": [
    "As a result: if the prediction score is greater than 5 means churn, lower means unchurn!\n",
    "Observation 0: True value = 1 (Churn) but \r\n",
    "Model prediction: Churn (Correc t)\r\n",
    "Observation 1: True value = 0 (Non-chu but )\r\n",
    "\r\n",
    "Model predictCNon-chIncrn (Cor rect)\r\n",
    "Observation 2: True value = 0 (Non- but urn)\r\n",
    "\r\n",
    "Model prediction:Incurn (Incorrect)\r\n",
    "Observation 3: True value =  but (Churn)\r\n",
    "\r\n",
    "Model prediction: Churn (Correct)\r\n",
    "Observation 4: True value = 0 but Non-churn)\r\n",
    "\r\n",
    "Model prediction: Chu\n",
    "\n",
    "Observation 1,2 and 4 incorrect means the model misclassified instances where the true outcome was non-churn as churn. I need further exploration on why I had misclassified by auto ML!rn (Incorrect)"
   ]
  },
  {
   "cell_type": "markdown",
   "id": "c49db562",
   "metadata": {},
   "source": [
    "# Summary"
   ]
  },
  {
   "cell_type": "markdown",
   "id": "2466b9a6-f222-4c03-96a9-1d8d28919e1e",
   "metadata": {},
   "source": [
    "\n",
    "In this assignment, I used PyCaret, a tool that automates machine learning tasks, to build a model predicting customer churn (whether customers will leave). PyCaret made it super easy to test out different machine learning models to see which one worked best for our data. I compared several classification models using PyCaret's compare_models function and identified the K Neighbors Classifier as the best performer based on Recall. After picking the top-performing model, I saved it so I could use it later whenever we get new customer data. Then, I created a simple function in Python that takes in information about new customers and predicts whether they're likely to churn or not. I tested this function with some pretend customer data and got back predictions for each customer.In general,  PyCaret helped me quickly build a model to predict customer churn, which is super important for keeping our business running smoothlyBut I had a couple of the miscalified results which indicate, I need improvement on the models!\n"
   ]
  }
 ],
 "metadata": {
  "kernelspec": {
   "display_name": "Python 3.10",
   "language": "python",
   "name": "myenv"
  },
  "language_info": {
   "codemirror_mode": {
    "name": "ipython",
    "version": 3
   },
   "file_extension": ".py",
   "mimetype": "text/x-python",
   "name": "python",
   "nbconvert_exporter": "python",
   "pygments_lexer": "ipython3",
   "version": "3.10.13"
  }
 },
 "nbformat": 4,
 "nbformat_minor": 5
}
